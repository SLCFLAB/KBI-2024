{
 "cells": [
  {
   "cell_type": "markdown",
   "metadata": {},
   "source": [
    "#### 코드 참조 \n",
    "[1] https://github.com/gilbutITbook/080289/blob/main/chap03/python_3%EC%9E%A5.ipynb\n\n",
   ]
  },
  {
    "cell_type": "markdown",
    "id": "ef56403f",
    "metadata": {},
    "source": [
     "<a href=\"https://colab.research.google.com/github/SLCFLAB/KBI2024/blob/main/Day1/1.3_KNN.ipynb\" target=\"_parent\"><img src=\"https://colab.research.google.com/assets/colab-badge.svg\" alt=\"Open In Colab\"/></a>"
    ]
   },
  {
   "cell_type": "markdown",
   "metadata": {},
   "source": [
    "# 3장 KNN 실습"
   ]
  },
  {
   "cell_type": "markdown",
   "metadata": {},
   "source": [
    "## 2.1 행렬의 랭크 구하기"
   ]
  },
  {
   "cell_type": "code",
   "execution_count": 1,
   "metadata": {},
   "outputs": [
    {
     "data": {
      "text/plain": [
       "2"
      ]
     },
     "execution_count": 1,
     "metadata": {},
     "output_type": "execute_result"
    }
   ],
   "source": [
    "# 라이브러리를 임포트합니다.\n",
    "import numpy as np\n",
    "import matplotlib.pyplot as plt\n",
    "import pandas as pd\n",
    "from sklearn import metrics \n",
    "\n",
    "# 열 이름을 지정해줍니다.\n",
    "names = ['sepal-length', 'sepal-width', 'petal-length', 'petal-width', 'Class']",
    "\n",
    "# 데이터를 불러옵니다.\n",
    "dataset = pd.read_csv('../chap03/data/iris.data', names=names)"
   ]
  }
 ],
 "metadata": {
  "kernelspec": {
   "display_name": "Python 3",
   "language": "python",
   "name": "python3"
  },
  "language_info": {
   "codemirror_mode": {
    "name": "ipython",
    "version": 3
   },
   "file_extension": ".py",
   "mimetype": "text/x-python",
   "name": "python",
   "nbconvert_exporter": "python",
   "pygments_lexer": "ipython3",
   "version": "3.8.8"
  }
 },
 "nbformat": 4,
 "nbformat_minor": 2
}
